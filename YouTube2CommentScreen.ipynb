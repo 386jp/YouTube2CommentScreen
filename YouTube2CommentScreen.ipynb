{
  "nbformat": 4,
  "nbformat_minor": 0,
  "metadata": {
    "colab": {
      "name": "YouTube2CommentScreen.ipynb",
      "provenance": []
    },
    "kernelspec": {
      "name": "python3",
      "display_name": "Python 3"
    }
  },
  "cells": [
    {
      "cell_type": "code",
      "metadata": {
        "id": "J0_C4ni2qd4p",
        "colab_type": "code",
        "colab": {}
      },
      "source": [
        "# Initial Config\n",
        "## Socket IO\n",
        "Hashtag = 'muds'\n",
        "## YouTube\n",
        "API_KEY = '***************' # YouTube V3 API Key\n",
        "channelID = 'UC8EYVG5oxBPe0zDdwpny2Rw' # YouTube Channel ID"
      ],
      "execution_count": 0,
      "outputs": []
    },
    {
      "cell_type": "code",
      "metadata": {
        "id": "S9poB-hT40SC",
        "colab_type": "code",
        "colab": {}
      },
      "source": [
        "# Install Socket IO for Python (Required for Google Colab - Delete comment-out if you are working on Google Colab)\n",
        "#!pip install \"python-socketio[client]\""
      ],
      "execution_count": 0,
      "outputs": []
    },
    {
      "cell_type": "code",
      "metadata": {
        "id": "GdnaTZT_4y40",
        "colab_type": "code",
        "colab": {}
      },
      "source": [
        "# Import Library\n",
        "import socketio\n",
        "import json\n",
        "import requests\n",
        "import pandas as pd\n",
        "import time"
      ],
      "execution_count": 0,
      "outputs": []
    },
    {
      "cell_type": "code",
      "metadata": {
        "id": "KditT24n48qa",
        "colab_type": "code",
        "colab": {}
      },
      "source": [
        "# Setup Socket IO\n",
        "sio = socketio.Client()\n",
        "@sio.event\n",
        "def message(data):\n",
        "    print('I received a message!')\n",
        "@sio.on('my message')\n",
        "def on_message(data):\n",
        "    print('I received a message!')\n",
        "@sio.event\n",
        "def connect():\n",
        "    print(\"I'm connected!\")\n",
        "@sio.event\n",
        "def connect_error():\n",
        "    print(\"The connection failed!\")\n",
        "@sio.event\n",
        "def disconnect():\n",
        "    print(\"I'm disconnected!\")"
      ],
      "execution_count": 0,
      "outputs": []
    },
    {
      "cell_type": "code",
      "metadata": {
        "id": "ToFrlGJk5GQQ",
        "colab_type": "code",
        "colab": {}
      },
      "source": [
        "# Connect to Comment Screen\n",
        "sio.connect('https://commentscreen.com')\n",
        "sio.emit('join', { 'room': Hashtag }) # Join to room (hashtag)"
      ],
      "execution_count": 0,
      "outputs": []
    },
    {
      "cell_type": "code",
      "metadata": {
        "id": "PEjOd8LJ5rqw",
        "colab_type": "code",
        "colab": {}
      },
      "source": [
        "# Comment to Comment Screen Room (function)\n",
        "def cs_comment(textmsg):\n",
        "  jarray = { 'position': 'opt_ue', 'size': 'opt_small', 'color': '#ff0000', 'text': textmsg, 'uuid': 'ede93ada-3eb6-4a7d-b181-23c5f6d75f95', 'date': '1591418200999' }\n",
        "  jsonStr = json.dumps(jarray, separators=(',', ':'))\n",
        "  sio.emit('message', jsonStr)"
      ],
      "execution_count": 0,
      "outputs": []
    },
    {
      "cell_type": "code",
      "metadata": {
        "id": "WVkgPu3t5zbg",
        "colab_type": "code",
        "colab": {}
      },
      "source": [
        "# Comment to Comment Screen Room\n",
        "#cs_comment(\"本日は晴天なり。\")"
      ],
      "execution_count": 0,
      "outputs": []
    },
    {
      "cell_type": "code",
      "metadata": {
        "id": "6o6GmkJi7Ex2",
        "colab_type": "code",
        "colab": {}
      },
      "source": [
        "# Setup and Get Comment ID for YouTube LiveStreaming\n",
        "params = {\n",
        "        'part': 'id',\n",
        "        'key': API_KEY,\n",
        "        'channelId': channelID,\n",
        "        'eventType': 'live',\n",
        "        'type': 'video',\n",
        "        'order': 'viewCount',\n",
        "        'fields': 'items(id(videoId))'\n",
        "        }\n",
        "\n",
        "url = 'https://www.googleapis.com/youtube/v3/search'\n",
        "r = requests.get(url, headers=None, params=params).json()\n",
        "\n",
        "vID = r.get('items')[0].get('id').get('videoId')\n",
        "\n",
        "params = {\n",
        "        'part': 'liveStreamingDetails,statistics,snippet',\n",
        "        'key': API_KEY,\n",
        "        'id': vID,\n",
        "        'fields': 'items(id,liveStreamingDetails(activeLiveChatId,concurrentViewers,actualStartTime),' + \\\n",
        "                  'snippet(channelId,channelTitle,description,liveBroadcastContent,publishedAt,thumbnails,title),statistics)'\n",
        "        }\n",
        "\n",
        "url = 'https://www.googleapis.com/youtube/v3/videos'\n",
        "r = requests.get(url, headers=None, params=params).json()\n",
        "\n",
        "streamData = dict(r.get('items')[0])\n",
        "\n",
        "chatID = streamData['liveStreamingDetails']['activeLiveChatId']\n",
        "\n",
        "params = {\n",
        "        'part': 'snippet',\n",
        "        'key': API_KEY,\n",
        "        'liveChatId': chatID,\n",
        "        'maxResults': 200\n",
        "        }\n",
        "\n",
        "url = 'https://www.googleapis.com/youtube/v3/liveChat/messages'"
      ],
      "execution_count": 0,
      "outputs": []
    },
    {
      "cell_type": "code",
      "metadata": {
        "id": "HWD2eJkaw728",
        "colab_type": "code",
        "colab": {}
      },
      "source": [
        "# Setup Pandas Dataframe for Processing Comments\n",
        "df = pd.DataFrame(columns =['id', 'timestamp', 'user', 'message'])\n",
        "dfrownum = 0"
      ],
      "execution_count": 0,
      "outputs": []
    },
    {
      "cell_type": "code",
      "metadata": {
        "id": "vlFhtG6c_3mU",
        "colab_type": "code",
        "colab": {}
      },
      "source": [
        "# Get Comments and Send to CommentScreen\n",
        "while True:\n",
        "  messages = requests.get(url, headers=None, params=params).json()\n",
        "  for i in range(len(messages['items'])):\n",
        "    df_id = str(messages['items'][i]['id'])\n",
        "    df_timestamp = str(messages['items'][i]['snippet']['publishedAt'])\n",
        "    df_user = str(messages['items'][i]['snippet']['authorChannelId'])\n",
        "    df_message = str(messages['items'][i]['snippet']['displayMessage'])\n",
        "    for ii in range(2):\n",
        "      df = df.append({'id': df_id, 'timestamp': df_timestamp, 'user': df_user, 'message': df_message}, ignore_index=True)\n",
        "  dfcol = df.columns\n",
        "  dfcol_filter = ['id', 'timestamp', 'user', 'message']\n",
        "  for ii in range(len(dfcol)):\n",
        "      if dfcol[ii] not in dfcol_filter:\n",
        "            del df[dfcol[ii]]\n",
        "  df = df.drop_duplicates()\n",
        "  df = df.reset_index()\n",
        "  dfcol = df.columns\n",
        "  dfcol_filter = ['id', 'timestamp', 'user', 'message']\n",
        "  for ii in range(len(dfcol)):\n",
        "      if dfcol[ii] not in dfcol_filter:\n",
        "            del df[dfcol[ii]]\n",
        "  if (len(df) - dfrownum) != 0:\n",
        "    for i in range(len(df) - dfrownum)[::-1]:\n",
        "      cs_comment(df['message'][len(df) - 1 - i])\n",
        "    dfrownum = len(df)\n",
        "  time.sleep(2.5) # Sleep Timer (seconds, change if you need to)"
      ],
      "execution_count": 0,
      "outputs": []
    },
    {
      "cell_type": "code",
      "metadata": {
        "id": "LA00B2wJtIxv",
        "colab_type": "code",
        "colab": {}
      },
      "source": [
        "# Save History to CSV\n",
        "df.to_csv('ChatHistory.csv')"
      ],
      "execution_count": 0,
      "outputs": []
    }
  ]
}